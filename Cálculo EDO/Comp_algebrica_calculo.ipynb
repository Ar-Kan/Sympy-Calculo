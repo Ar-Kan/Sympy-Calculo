{
 "cells": [
  {
   "cell_type": "markdown",
   "metadata": {},
   "source": [
    "# Computação algébrica\n",
    "\n",
    "Este trabalho tem a função de completar o trabalho escrito. Foi realizado com a linguagem de programação [Python 3.6](https://www.python.org/) com auxílio da biblioteca [SymPy](http://www.sympy.org/pt/index.html) para a computação de funções, através do IDE [Jupyter Notebook](http://jupyter.org/).\n",
    "\n",
    "### Índice\n",
    "* [1. Definições algorítmicas](#1.-Definições-algorítmicas)\n",
    "* [1.1 Preparação do ambiente](#1.1-Preparação-do-ambiente)\n",
    "* [1.1.1 Gerador de gráficos](#1.1.1-Gerador-de-gráficos)\n",
    "* [2. Definições matemáticas](#2.-Definições-matemáticas)\n",
    "* [3. Solução Geral](#3.-Solução-Geral)\n",
    "* [3.1 Definindo símbolos e funções](#3.1-Definindo-símbolos-e-funções)\n",
    "* [3.2 Definindo constantes](#3.2-Definindo-constantes)\n",
    "* [3.3 Definindo p](#3.3-Definindo-p)\n",
    "* [3.4 Definindo q](#3.4-Definindo-q)\n",
    "* [3.5 Escrevendo a EDO](#3.5-Escrevendo-a-EDO)\n",
    "* [3.6 Encontrando a Solução Geral para a EDO](#3.6-Encontrando-a-Solução-Geral-para-a-EDO)\n",
    "* [4. Soluções Parciais](#4.-Soluções-Parciais)\n",
    "* [4.1 Solução Parcial 1](#4.1-Solução-Parcial-1)\n",
    "* [4.1.1 SP1 em 30 minutos](#4.1.1-SP1-em-30-minutos)\n",
    "* [4.1.2 Gráfico](#4.1.2-Gráfico)\n",
    "* [4.2 Solução Parcial 2](#4.2-Solução-Parcial-2)\n",
    "* [4.2.1 SP2 em 30 minutos](#4.2.1-SP2-em-30-minutos)\n",
    "* [4.2.2 Gráfico](#4.2.2-Gráfico)\n",
    "* [4.3 Solução Parcial 3](#4.3-Solução-Parcial-3)\n",
    "* [4.3.1 SP3 em 30 minutos](#4.3.1-SP3-em-30-minutos)\n",
    "* [4.3.2 Gráfico](#4.3.2-Gráfico)\n",
    "* [4.4 Solução Parcial 4](#4.4-Solução-Parcial-4)\n",
    "* [4.4.1 SP4 em 30 minutos](#4.4.1-SP4-em-30-minutos)\n",
    "* [4.4.2 Gráfico](#4.4.2-Gráfico)\n",
    "* [4.5 Solução Parcial 5](#4.5-Solução-Parcial-5)\n",
    "* [4.5.1 SP5 em 30 minutos](#4.5.1-SP5-em-30-minutos)\n",
    "* [4.5.2 Gráfico](#4.5.2-Gráfico)\n",
    "* [5. Comparação gráfica entre as Soluções Parciais](#5.-Comparação-gráfica-entre-as-Soluções-Parciais)"
   ]
  },
  {
   "cell_type": "markdown",
   "metadata": {},
   "source": [
    "## 1. Definições algorítmicas\n",
    "* [Índice](#Computação-algébrica)"
   ]
  },
  {
   "cell_type": "markdown",
   "metadata": {},
   "source": [
    "### 1.1 Preparação do ambiente\n",
    "\n",
    "Definindo os pacotes que serão utilizados para a realização da computação simbólica."
   ]
  },
  {
   "cell_type": "code",
   "execution_count": 1,
   "metadata": {
    "scrolled": false
   },
   "outputs": [],
   "source": [
    "from sympy import *\n",
    "init_printing()"
   ]
  },
  {
   "cell_type": "markdown",
   "metadata": {},
   "source": [
    "#### 1.1.1 Gerador de gráficos\n",
    "\n",
    "Para visulizar de maneira gráfica as funções, será gerado um gráfico para o intervalo $t=0$ até $t=120$:"
   ]
  },
  {
   "cell_type": "code",
   "execution_count": 2,
   "metadata": {
    "scrolled": false
   },
   "outputs": [],
   "source": [
    "import numpy as np\n",
    "import matplotlib.pyplot as plt\n",
    "from matplotlib import style\n",
    "style.use('seaborn-paper')\n",
    "\n",
    "\n",
    "def grafico_mtpl(func, mostrar=True, nome=None):\n",
    "    func = func.rhs\n",
    "    t = Symbol('t')\n",
    "    lam_x = lambdify(t, func, modules=['numpy'])\n",
    "    eixo_x = np.linspace(0, 120, num=1000)\n",
    "    eixo_y = lam_x(eixo_x)\n",
    "    plt.grid(True, linestyle=':')\n",
    "    plt.axhline(0, color='k')\n",
    "    plt.axvline(0, color='k')\n",
    "    axes = plt.gca()\n",
    "    axes.set_xlim([-5, 125])\n",
    "    axes.set_ylim([-5, 180])\n",
    "    plt.xlabel('tempo (min)', fontsize=10)\n",
    "    plt.ylabel('concentração (kg)', fontsize=10)\n",
    "    if nome is not None:\n",
    "        plt.plot(eixo_x, eixo_y, label=nome)\n",
    "        plt.legend(prop={'size': 10})\n",
    "    else:\n",
    "        plt.plot(eixo_x, eixo_y)\n",
    "    if mostrar:\n",
    "        plt.show()"
   ]
  },
  {
   "cell_type": "markdown",
   "metadata": {},
   "source": [
    "## 2. Definições matemáticas\n",
    "* [Índice](#Computação-algébrica)\n",
    "\n",
    "\n",
    "- Volume inicial: $V_{0}=100 l$\n",
    "\n",
    "- Quantidade de sal inicial: $A_{0}=10 kg$\n",
    "\n",
    "- Vazão de entrada: $r_{e}=6 l/min$\n",
    "\n",
    "- Vazão de saída: $r_{s}=4 l/min$\n",
    "\n",
    "- Concentração que entra: $C_{e}=0,5 kg/l$\n",
    "\n",
    "\n",
    "$$p(t)=\\frac{r_{s}}{V_{0}+(r_{e}-r_{s})t}$$\n",
    "\n",
    "$$q(t)=C_{e}r_{e}$$"
   ]
  },
  {
   "cell_type": "markdown",
   "metadata": {},
   "source": [
    "## 3. Solução Geral\n",
    "* [Índice](#Computação-algébrica)\n",
    "\n",
    "É importante notar que, aqui, $C=C_{m}+50^{3}$, onde, $C_{m}$ é o termo encontrado e utilizado na parte escrita dete trabalho."
   ]
  },
  {
   "cell_type": "markdown",
   "metadata": {},
   "source": [
    "### 3.1 Definindo símbolos e funções"
   ]
  },
  {
   "cell_type": "code",
   "execution_count": 3,
   "metadata": {
    "scrolled": false
   },
   "outputs": [],
   "source": [
    "t, C1 = symbols('t C1')\n",
    "A, p, q =  symbols('A p q', cls = Function, Function = True)"
   ]
  },
  {
   "cell_type": "markdown",
   "metadata": {},
   "source": [
    "### 3.2 Definindo constantes"
   ]
  },
  {
   "cell_type": "code",
   "execution_count": 4,
   "metadata": {
    "scrolled": false
   },
   "outputs": [],
   "source": [
    "V0 = 100\n",
    "A0 = 10\n",
    "re = 6\n",
    "rs = 4\n",
    "Ce = 0.5"
   ]
  },
  {
   "cell_type": "markdown",
   "metadata": {},
   "source": [
    "### 3.3 Definindo p"
   ]
  },
  {
   "cell_type": "code",
   "execution_count": 5,
   "metadata": {
    "scrolled": false
   },
   "outputs": [
    {
     "data": {
      "image/png": "[encoded data removed]",
      "text/latex": [
       "$$p{\\left (t \\right )} = \\frac{2}{t + 50}$$"
      ],
      "text/plain": [
       "         2   \n",
       "p(t) = ──────\n",
       "       t + 50"
      ]
     },
     "execution_count": 5,
     "metadata": {},
     "output_type": "execute_result"
    }
   ],
   "source": [
    "Pt = sympify(rs / (V0 + (re - rs) * t))\n",
    "Pt = simplify(Pt)\n",
    "Eq(p(t), Pt)"
   ]
  },
  {
   "cell_type": "markdown",
   "metadata": {},
   "source": [
    "### 3.4 Definindo q"
   ]
  },
  {
   "cell_type": "code",
   "execution_count": 6,
   "metadata": {
    "scrolled": false
   },
   "outputs": [
    {
     "data": {
      "image/png": "[encoded data removed]",
      "text/latex": [
       "$$q{\\left (t \\right )} = 3.0$$"
      ],
      "text/plain": [
       "q(t) = 3.0"
      ]
     },
     "execution_count": 6,
     "metadata": {},
     "output_type": "execute_result"
    }
   ],
   "source": [
    "Qt = Ce * re\n",
    "Eq(q(t), Qt)"
   ]
  },
  {
   "cell_type": "markdown",
   "metadata": {},
   "source": [
    "### 3.5 Escrevendo a EDO"
   ]
  },
  {
   "cell_type": "code",
   "execution_count": 7,
   "metadata": {
    "scrolled": false
   },
   "outputs": [
    {
     "data": {
      "image/png": "[encoded data removed]",
      "text/latex": [
       "$$\\frac{d}{d t} A{\\left (t \\right )} + \\frac{2 A{\\left (t \\right )}}{t + 50} = 3.0$$"
      ],
      "text/plain": [
       "d          2⋅A(t)      \n",
       "──(A(t)) + ────── = 3.0\n",
       "dt         t + 50      "
      ]
     },
     "execution_count": 7,
     "metadata": {},
     "output_type": "execute_result"
    }
   ],
   "source": [
    "equacao = Eq(Derivative(A(t)) + Pt * A(t), Qt)\n",
    "equacao"
   ]
  },
  {
   "cell_type": "markdown",
   "metadata": {},
   "source": [
    "### 3.6 Encontrando a Solução Geral para a EDO\n",
    "_\\*\\*Magic!\\*\\*_"
   ]
  },
  {
   "cell_type": "code",
   "execution_count": 8,
   "metadata": {},
   "outputs": [
    {
     "name": "stdout",
     "output_type": "stream",
     "text": [
      "1st_exact\n",
      "1st_linear\n",
      "Bernoulli\n",
      "almost_linear\n",
      "1st_power_series\n",
      "lie_group\n",
      "1st_exact_Integral\n",
      "1st_linear_Integral\n",
      "Bernoulli_Integral\n",
      "almost_linear_Integral\n"
     ]
    }
   ],
   "source": [
    "# classificando a EDO, retorna todos os possíveis métodos\n",
    "# de resolução, ordenado do método mais silples e direto\n",
    "# ao mais complicado e demorado\n",
    "\n",
    "EDO_classe = classify_ode(equacao, A(t))\n",
    "for i in EDO_classe: print(i)"
   ]
  },
  {
   "cell_type": "code",
   "execution_count": 9,
   "metadata": {
    "scrolled": false
   },
   "outputs": [
    {
     "data": {
      "image/png": "[encoded data removed]",
      "text/latex": [
       "$$A{\\left (t \\right )} = \\frac{C_{1} + 1.0 t^{3} + 150.0 t^{2} + 7500.0 t}{t^{2} + 100 t + 2500}$$"
      ],
      "text/plain": [
       "                 3          2           \n",
       "       C₁ + 1.0⋅t  + 150.0⋅t  + 7500.0⋅t\n",
       "A(t) = ─────────────────────────────────\n",
       "                2                       \n",
       "               t  + 100⋅t + 2500        "
      ]
     },
     "execution_count": 9,
     "metadata": {},
     "output_type": "execute_result"
    }
   ],
   "source": [
    "# resolvendo a EDO, usando, automaticamente, a primeira\n",
    "# classificação do método acima\n",
    "\n",
    "difSG = simplify(dsolve(equacao, A(t)))\n",
    "difSG"
   ]
  },
  {
   "cell_type": "markdown",
   "metadata": {},
   "source": [
    "## 4. Soluções Parciais"
   ]
  },
  {
   "cell_type": "markdown",
   "metadata": {},
   "source": [
    "### 4.1 Solução Parcial 1\n",
    "* [Índice](#Computação-algébrica)\n",
    "\n",
    "$SP_{1} = A_{1}$\n",
    "\n",
    "$A_{1}(0)=10kg$"
   ]
  },
  {
   "cell_type": "code",
   "execution_count": 10,
   "metadata": {},
   "outputs": [
    {
     "data": {
      "image/png": "[encoded data removed]",
      "text/latex": [
       "$$\\left \\{ C_{1} : 25000\\right \\}$$"
      ],
      "text/plain": [
       "{C₁: 25000}"
      ]
     },
     "execution_count": 10,
     "metadata": {},
     "output_type": "execute_result"
    }
   ],
   "source": [
    "# encontrando o valor de C\n",
    "const1 = solve([difSG.subs(t, 0).subs(A(0), 10)])\n",
    "const1"
   ]
  },
  {
   "cell_type": "code",
   "execution_count": 11,
   "metadata": {},
   "outputs": [
    {
     "data": {
      "image/png": "[encoded data removed]",
      "text/latex": [
       "$$A{\\left (t \\right )} = \\frac{1.0 t^{3} + 150.0 t^{2} + 7500.0 t + 25000}{t^{2} + 100 t + 2500}$$"
      ],
      "text/plain": [
       "            3          2                   \n",
       "       1.0⋅t  + 150.0⋅t  + 7500.0⋅t + 25000\n",
       "A(t) = ────────────────────────────────────\n",
       "                 2                         \n",
       "                t  + 100⋅t + 2500          "
      ]
     },
     "execution_count": 11,
     "metadata": {},
     "output_type": "execute_result"
    }
   ],
   "source": [
    "# encontrando SP através do C\n",
    "SP1 = simplify(difSG.subs(const1))\n",
    "SP1"
   ]
  },
  {
   "cell_type": "markdown",
   "metadata": {},
   "source": [
    "#### 4.1.1 SP1 em 30 minutos"
   ]
  },
  {
   "cell_type": "code",
   "execution_count": 12,
   "metadata": {},
   "outputs": [
    {
     "data": {
      "image/png": "[encoded data removed]",
      "text/latex": [
       "$$\\left \\{ A{\\left (30 \\right )} : 64.375\\right \\}$$"
      ],
      "text/plain": [
       "{A(30): 64.375}"
      ]
     },
     "execution_count": 12,
     "metadata": {},
     "output_type": "execute_result"
    }
   ],
   "source": [
    "SP130 = solve(SP1.subs(t, 30))\n",
    "SP130[0]"
   ]
  },
  {
   "cell_type": "markdown",
   "metadata": {},
   "source": [
    "#### 4.1.2 Gráfico"
   ]
  },
  {
   "cell_type": "code",
   "execution_count": 13,
   "metadata": {
    "scrolled": false
   },
   "outputs": [
    {
     "data": {
      "image/png": "[encoded data removed]",
      "text/plain": [
       "<Figure size 432x288 with 1 Axes>"
      ]
     },
     "metadata": {},
     "output_type": "display_data"
    }
   ],
   "source": [
    "grafico_mtpl(SP1)"
   ]
  },
  {
   "cell_type": "markdown",
   "metadata": {},
   "source": [
    "### 4.2 Solução Parcial 2\n",
    "* [Índice](#Computação-algébrica)\n",
    "\n",
    "$SP_{2} = A_{2}$\n",
    "\n",
    "$A_{2}(0)=0kg$\n"
   ]
  },
  {
   "cell_type": "code",
   "execution_count": 14,
   "metadata": {
    "scrolled": false
   },
   "outputs": [
    {
     "data": {
      "image/png": "[encoded data removed]",
      "text/latex": [
       "$$\\left \\{ C_{1} : 0\\right \\}$$"
      ],
      "text/plain": [
       "{C₁: 0}"
      ]
     },
     "execution_count": 14,
     "metadata": {},
     "output_type": "execute_result"
    }
   ],
   "source": [
    "# encontrando o valor de C\n",
    "const2 = solve([difSG.subs(t, 0).subs(A(0), 0)])\n",
    "const2"
   ]
  },
  {
   "cell_type": "code",
   "execution_count": 15,
   "metadata": {
    "scrolled": false
   },
   "outputs": [
    {
     "data": {
      "image/png": "[encoded data removed]",
      "text/latex": [
       "$$A{\\left (t \\right )} = \\frac{t \\left(1.0 t^{2} + 150.0 t + 7500.0\\right)}{t^{2} + 100 t + 2500}$$"
      ],
      "text/plain": [
       "         ⎛     2                   ⎞\n",
       "       t⋅⎝1.0⋅t  + 150.0⋅t + 7500.0⎠\n",
       "A(t) = ─────────────────────────────\n",
       "              2                     \n",
       "             t  + 100⋅t + 2500      "
      ]
     },
     "execution_count": 15,
     "metadata": {},
     "output_type": "execute_result"
    }
   ],
   "source": [
    "# encontrando SP através do C\n",
    "SP2 = simplify(difSG.subs(const2))\n",
    "SP2"
   ]
  },
  {
   "cell_type": "markdown",
   "metadata": {},
   "source": [
    "#### 4.2.1 SP2 em 30 minutos"
   ]
  },
  {
   "cell_type": "code",
   "execution_count": 16,
   "metadata": {
    "scrolled": false
   },
   "outputs": [
    {
     "data": {
      "image/png": "[encoded data removed]",
      "text/latex": [
       "$$\\left \\{ A{\\left (30 \\right )} : 60.46875\\right \\}$$"
      ],
      "text/plain": [
       "{A(30): 60.46875}"
      ]
     },
     "execution_count": 16,
     "metadata": {},
     "output_type": "execute_result"
    }
   ],
   "source": [
    "SP230 = solve(SP2.subs(t, 30))\n",
    "SP230[0]"
   ]
  },
  {
   "cell_type": "markdown",
   "metadata": {},
   "source": [
    "#### 4.2.2 Gráfico"
   ]
  },
  {
   "cell_type": "code",
   "execution_count": 17,
   "metadata": {
    "scrolled": false
   },
   "outputs": [
    {
     "data": {
      "image/png": "[encoded data removed]",
      "text/plain": [
       "<Figure size 432x288 with 1 Axes>"
      ]
     },
     "metadata": {},
     "output_type": "display_data"
    }
   ],
   "source": [
    "grafico_mtpl(SP2)"
   ]
  },
  {
   "cell_type": "markdown",
   "metadata": {},
   "source": [
    "### 4.3 Solução Parcial 3\n",
    "* [Índice](#Computação-algébrica)\n",
    "\n",
    "$SP_{3} = A_{3}$\n",
    "\n",
    "$A_{3}(0)=5kg$\n"
   ]
  },
  {
   "cell_type": "code",
   "execution_count": 18,
   "metadata": {
    "scrolled": false
   },
   "outputs": [
    {
     "data": {
      "image/png": "[encoded data removed]",
      "text/latex": [
       "$$\\left \\{ C_{1} : 12500\\right \\}$$"
      ],
      "text/plain": [
       "{C₁: 12500}"
      ]
     },
     "execution_count": 18,
     "metadata": {},
     "output_type": "execute_result"
    }
   ],
   "source": [
    "# encontrando o valor de C\n",
    "const3 = solve([difSG.subs(t, 0).subs(A(0), 5)])\n",
    "const3"
   ]
  },
  {
   "cell_type": "code",
   "execution_count": 19,
   "metadata": {
    "scrolled": false
   },
   "outputs": [
    {
     "data": {
      "image/png": "[encoded data removed]",
      "text/latex": [
       "$$A{\\left (t \\right )} = \\frac{1.0 t^{3} + 150.0 t^{2} + 7500.0 t + 12500}{t^{2} + 100 t + 2500}$$"
      ],
      "text/plain": [
       "            3          2                   \n",
       "       1.0⋅t  + 150.0⋅t  + 7500.0⋅t + 12500\n",
       "A(t) = ────────────────────────────────────\n",
       "                 2                         \n",
       "                t  + 100⋅t + 2500          "
      ]
     },
     "execution_count": 19,
     "metadata": {},
     "output_type": "execute_result"
    }
   ],
   "source": [
    "# encontrando SP através do C\n",
    "SP3 = simplify(difSG.subs(const3))\n",
    "SP3"
   ]
  },
  {
   "cell_type": "markdown",
   "metadata": {},
   "source": [
    "#### 4.3.1 SP3 em 30 minutos"
   ]
  },
  {
   "cell_type": "code",
   "execution_count": 20,
   "metadata": {
    "scrolled": false
   },
   "outputs": [
    {
     "data": {
      "image/png": "[encoded data removed]",
      "text/latex": [
       "$$\\left \\{ A{\\left (30 \\right )} : 62.421875\\right \\}$$"
      ],
      "text/plain": [
       "{A(30): 62.421875}"
      ]
     },
     "execution_count": 20,
     "metadata": {},
     "output_type": "execute_result"
    }
   ],
   "source": [
    "SP330 = solve(SP3.subs(t, 30))\n",
    "SP330[0]"
   ]
  },
  {
   "cell_type": "markdown",
   "metadata": {},
   "source": [
    "#### 4.3.2 Gráfico"
   ]
  },
  {
   "cell_type": "code",
   "execution_count": 21,
   "metadata": {
    "scrolled": false
   },
   "outputs": [
    {
     "data": {
      "image/png": "[encoded data removed]",
      "text/plain": [
       "<Figure size 432x288 with 1 Axes>"
      ]
     },
     "metadata": {},
     "output_type": "display_data"
    }
   ],
   "source": [
    "grafico_mtpl(SP3)"
   ]
  },
  {
   "cell_type": "markdown",
   "metadata": {},
   "source": [
    "### 4.4 Solução Parcial 4\n",
    "* [Índice](#Computação-algébrica)\n",
    "\n",
    "$SP_{4} = A_{4}$\n",
    "\n",
    "$A_{4}(0)=50kg$\n"
   ]
  },
  {
   "cell_type": "code",
   "execution_count": 22,
   "metadata": {
    "scrolled": false
   },
   "outputs": [
    {
     "data": {
      "image/png": "[encoded data removed]",
      "text/latex": [
       "$$\\left \\{ C_{1} : 125000\\right \\}$$"
      ],
      "text/plain": [
       "{C₁: 125000}"
      ]
     },
     "execution_count": 22,
     "metadata": {},
     "output_type": "execute_result"
    }
   ],
   "source": [
    "# encontrando o valor de C\n",
    "const4 = solve([difSG.subs(t, 0).subs(A(0), 50)])\n",
    "const4"
   ]
  },
  {
   "cell_type": "code",
   "execution_count": 23,
   "metadata": {
    "scrolled": false
   },
   "outputs": [
    {
     "data": {
      "image/png": "[encoded data removed]",
      "text/latex": [
       "$$A{\\left (t \\right )} = 1.0 t + 50.0$$"
      ],
      "text/plain": [
       "A(t) = 1.0⋅t + 50.0"
      ]
     },
     "execution_count": 23,
     "metadata": {},
     "output_type": "execute_result"
    }
   ],
   "source": [
    "# encontrando SP através do C\n",
    "SP4 = simplify(difSG.subs(const4))\n",
    "SP4"
   ]
  },
  {
   "cell_type": "markdown",
   "metadata": {},
   "source": [
    "#### 4.4.1 SP4 em 30 minutos"
   ]
  },
  {
   "cell_type": "code",
   "execution_count": 24,
   "metadata": {
    "scrolled": false
   },
   "outputs": [
    {
     "data": {
      "image/png": "[encoded data removed]",
      "text/latex": [
       "$$\\left \\{ A{\\left (30 \\right )} : 80.0\\right \\}$$"
      ],
      "text/plain": [
       "{A(30): 80.0}"
      ]
     },
     "execution_count": 24,
     "metadata": {},
     "output_type": "execute_result"
    }
   ],
   "source": [
    "SP430 = solve(SP4.subs(t, 30))\n",
    "SP430[0]"
   ]
  },
  {
   "cell_type": "markdown",
   "metadata": {},
   "source": [
    "#### 4.4.2 Gráfico"
   ]
  },
  {
   "cell_type": "code",
   "execution_count": 25,
   "metadata": {
    "scrolled": false
   },
   "outputs": [
    {
     "data": {
      "image/png": "[encoded data removed]",
      "text/plain": [
       "<Figure size 432x288 with 1 Axes>"
      ]
     },
     "metadata": {},
     "output_type": "display_data"
    }
   ],
   "source": [
    "grafico_mtpl(SP4)"
   ]
  },
  {
   "cell_type": "markdown",
   "metadata": {},
   "source": [
    "### 4.5 Solução Parcial 5\n",
    "* [Índice](#Computação-algébrica)\n",
    "\n",
    "$SP_{5} = A_{5}$\n",
    "\n",
    "$A_{5}(0)=100kg$"
   ]
  },
  {
   "cell_type": "code",
   "execution_count": 26,
   "metadata": {
    "scrolled": false
   },
   "outputs": [
    {
     "data": {
      "image/png": "[encoded data removed]",
      "text/latex": [
       "$$\\left \\{ C_{1} : 250000\\right \\}$$"
      ],
      "text/plain": [
       "{C₁: 250000}"
      ]
     },
     "execution_count": 26,
     "metadata": {},
     "output_type": "execute_result"
    }
   ],
   "source": [
    "# encontrando o valor de C\n",
    "const5 = solve([difSG.subs(t, 0).subs(A(0), 100)])\n",
    "const5"
   ]
  },
  {
   "cell_type": "code",
   "execution_count": 27,
   "metadata": {
    "scrolled": false
   },
   "outputs": [
    {
     "data": {
      "image/png": "[encoded data removed]",
      "text/latex": [
       "$$A{\\left (t \\right )} = \\frac{1.0 t^{3} + 150.0 t^{2} + 7500.0 t + 250000}{t^{2} + 100 t + 2500}$$"
      ],
      "text/plain": [
       "            3          2                    \n",
       "       1.0⋅t  + 150.0⋅t  + 7500.0⋅t + 250000\n",
       "A(t) = ─────────────────────────────────────\n",
       "                  2                         \n",
       "                 t  + 100⋅t + 2500          "
      ]
     },
     "execution_count": 27,
     "metadata": {},
     "output_type": "execute_result"
    }
   ],
   "source": [
    "# encontrando SP através do C\n",
    "SP5 = simplify(difSG.subs(const5))\n",
    "SP5"
   ]
  },
  {
   "cell_type": "markdown",
   "metadata": {},
   "source": [
    "#### 4.5.1 SP5 em 30 minutos"
   ]
  },
  {
   "cell_type": "code",
   "execution_count": 28,
   "metadata": {
    "scrolled": false
   },
   "outputs": [
    {
     "data": {
      "image/png": "[encoded data removed]",
      "text/latex": [
       "$$\\left \\{ A{\\left (30 \\right )} : 99.53125\\right \\}$$"
      ],
      "text/plain": [
       "{A(30): 99.53125}"
      ]
     },
     "execution_count": 28,
     "metadata": {},
     "output_type": "execute_result"
    }
   ],
   "source": [
    "SP530 = solve(SP5.subs(t, 30))\n",
    "SP530[0]"
   ]
  },
  {
   "cell_type": "markdown",
   "metadata": {},
   "source": [
    "#### 4.5.2 Gráfico"
   ]
  },
  {
   "cell_type": "code",
   "execution_count": 29,
   "metadata": {
    "scrolled": false
   },
   "outputs": [
    {
     "data": {
      "image/png": "[encoded data removed]",
      "text/plain": [
       "<Figure size 432x288 with 1 Axes>"
      ]
     },
     "metadata": {},
     "output_type": "display_data"
    }
   ],
   "source": [
    "grafico_mtpl(SP5)"
   ]
  },
  {
   "cell_type": "markdown",
   "metadata": {},
   "source": [
    "## 5. Comparação gráfica entre as Soluções Parciais\n",
    "* [Índice](#Computação-algébrica)"
   ]
  },
  {
   "cell_type": "code",
   "execution_count": 30,
   "metadata": {},
   "outputs": [
    {
     "data": {
      "image/png": "[encoded data removed]",
      "text/plain": [
       "<Figure size 432x288 with 1 Axes>"
      ]
     },
     "metadata": {},
     "output_type": "display_data"
    }
   ],
   "source": [
    "grafico_mtpl(SP1, False, 'SP1')\n",
    "grafico_mtpl(SP2, False, 'SP2')\n",
    "grafico_mtpl(SP3, False, 'SP3')\n",
    "grafico_mtpl(SP4, False, 'SP4')\n",
    "grafico_mtpl(SP5, False, 'SP5')"
   ]
  },
  {
   "cell_type": "markdown",
   "metadata": {},
   "source": [
    "."
   ]
  }
 ],
 "metadata": {
  "kernelspec": {
   "display_name": "Python 3",
   "language": "python",
   "name": "python3"
  },
  "language_info": {
   "codemirror_mode": {
    "name": "ipython",
    "version": 3
   },
   "file_extension": ".py",
   "mimetype": "text/x-python",
   "name": "python",
   "nbconvert_exporter": "python",
   "pygments_lexer": "ipython3",
   "version": "3.6.4"
  }
 },
 "nbformat": 4,
 "nbformat_minor": 2
}
