{
 "cells": [
  {
   "cell_type": "markdown",
   "metadata": {},
   "source": [
    "# Método dos Mínimos Quadrados\n",
    "\n",
    "Este trabalho possui por finalidade a aproximação de dados através de uma função polinomial.\n",
    "\n",
    "Foi realizado com a linguagem de programação [Python (v3.6)](https://www.python.org/) com auxílio da biblioteca [SymPy](http://www.sympy.org/pt/index.html) para a computação algébrica, através do IDE [Jupyter Notebook](http://jupyter.org/).\n",
    "\n",
    "### Índice\n",
    "* [Definição matemática](#Definição-matemática)\n",
    "* [Passo 1](#Passo-1)\n",
    "* [Passo 2](#Passo-2)\n",
    "* [Passo 3](#Passo-3)\n",
    "* [Passo 4](#Passo-4)\n",
    "* [Definição algorítmica](#Definição-algorítmica)\n",
    "* [Definindo o ambiente](#Definindo-o-ambiente)\n",
    "* [Calculando a matriz A](#Calculando-a-matriz-A)\n",
    "* [Calculando a matriz x](#Calculando-a-matriz-x)\n",
    "* [Calculando a matriz b](#Calculando-a-matriz-b)\n",
    "* [Calculando o sistema equacional linear](#Calculando-o-sistema-equacional-linear)\n",
    "* [Resolvendo o sistema equacional e criando o polinômio](#Resolvendo-o-sistema-equacional-e-criando-o-polinômio)\n",
    "* [Visualizando o resultado](#Visualizando-o-resultado)\n",
    "* [Exemplo](#Exemplo)"
   ]
  },
  {
   "cell_type": "markdown",
   "metadata": {},
   "source": [
    "## Definição matemática\n",
    "* [Índice](#Método-dos-Mínimos-Quadrados)\n",
    "\n",
    "O Método dos Mínimos Quadrados (MMQ), pode ser definido como a aproximação de pontos ou uma função $f(x)$ por uma função $\\varphi(x)$, este método pode ser resumido 4 passos:"
   ]
  },
  {
   "cell_type": "markdown",
   "metadata": {},
   "source": [
    "### Passo 1\n",
    "* [Índice](#Método-dos-Mínimos-Quadrados)\n",
    "\n",
    "Após analizar o comportamento do gráfico, que se pretende passar pelo MMQ, deve-se escolher uma função de ajuste $\\varphi(x)$, identificando nela as funções auxiliares $g(x)$:\n",
    "$$\n",
    "\\varphi(x)=\\sum_{i=1}^{n} a_{i}g_{i}(x)\n",
    "$$"
   ]
  },
  {
   "cell_type": "markdown",
   "metadata": {},
   "source": [
    "### Passo 2\n",
    "* [Índice](#Método-dos-Mínimos-Quadrados)\n",
    "\n",
    "Montar um sistema de equações, onde, o número de equações do sistema seja igual ao número de funções auxiliares $g_{i}(x)$.\n",
    "\n",
    "**Exemplo para uma função $\\varphi(x)$ de 1º grau:**\n",
    "$$\n",
    "\\varphi (x) = a_{i}+a_{2}x\\\\\n",
    "g_{1}(x)=1;\\; g_{2}(x)=x\n",
    "$$\n",
    "Deve-se notar que para o caso funções $\\varphi(x)$ polinomiais $g_{i}(x)$ deve ser entendido como o expoente para cada $x$ no sistema de equações, ou seja:\n",
    "$$\n",
    "g_{1}(x)=x^{0};\\; g_{2}(x)=x^{1}\n",
    "$$\n",
    "\n",
    "Após determinar a equação $\\varphi(x)$:\n",
    "$$\n",
    "\\begin{bmatrix}\n",
    "a_{11} & a_{12} \\\\ \n",
    "a_{21} & a_{22}\n",
    "\\end{bmatrix} \\times \\begin{bmatrix}\n",
    "a_{1} \\\\ \n",
    "a_{2}\n",
    "\\end{bmatrix}=\\begin{bmatrix}\n",
    "b_{1} \\\\ \n",
    "b_{2}\n",
    "\\end{bmatrix}\n",
    "$$\n",
    "\n",
    "**Exemplo para uma função $\\varphi(x)$ de 2º grau:**\n",
    "$$\n",
    "\\varphi (x) = a_{i}+a_{2}x+a_{3}x^{2}\\\\\n",
    "g_{1}(x)=1;\\; g_{2}(x)=x;\\; g_{3}(x)=x^{2}\n",
    "$$\n",
    "\n",
    "Ter-se-á o seguinte sistema de equações:\n",
    "$$\n",
    "\\begin{bmatrix}\n",
    "a_{11} & a_{12} & a_{13} \\\\ \n",
    "a_{21} & a_{22} & a_{23} \\\\ \n",
    "a_{31} & a_{32} & a_{33} \n",
    "\\end{bmatrix} \\times \\begin{bmatrix}\n",
    "a_{1}\\\\ \n",
    "a_{2}\\\\ \n",
    "a_{3}\n",
    "\\end{bmatrix} = \\begin{bmatrix}\n",
    "b_{1}\\\\ \n",
    "b_{2}\\\\ \n",
    "b_{3}\n",
    "\\end{bmatrix}\n",
    "$$\n",
    "\n",
    "**Já para o caso de uma função $\\varphi(x)$ exponensial simples:**\n",
    "$$\n",
    "\\varphi (x)=a_{1}e^{x}\\\\\n",
    "g_{1}(x)=e^{x}\n",
    "$$\n",
    "\n",
    "Com o seguinte sistema:\n",
    "$$\n",
    "\\begin{bmatrix}\n",
    "a_{11}\n",
    "\\end{bmatrix}\\times \\begin{bmatrix}\n",
    "a_{1}\n",
    "\\end{bmatrix} = \\begin{bmatrix}\n",
    "b_{1}\n",
    "\\end{bmatrix}\n",
    "$$"
   ]
  },
  {
   "cell_type": "markdown",
   "metadata": {},
   "source": [
    "### Passo 3\n",
    "* [Índice](#Método-dos-Mínimos-Quadrados)\n",
    "\n",
    "A parir do sistema de equações já definido, deve-se determinar os coeficientes $a_{ij}$ e $b_{i}$:\n",
    "$$\n",
    "a_{ij}=\\sum_{k=1}^{m}g_{i}(x_{k})g_{j}(x_{k})\\\\\n",
    "b_{i}=\\sum_{k=1}^{m}f(x_{k})g_{i}(x_{k})\n",
    "$$\n",
    "onde:\n",
    "* $m$ é o número total de valores experimentais,\n",
    "* $i$ é o número da linha da matriz, e\n",
    "* $j$ é o número da coluna da matriz.\n",
    "Portanto, já se pode entender que $a_{ij}$ e $b_{i}$ não são incógnitas, sendo determinados pelos valores experimentais a partir da função $\\varphi(x)$."
   ]
  },
  {
   "cell_type": "markdown",
   "metadata": {},
   "source": [
    "### Passo 4\n",
    "* [Índice](#Método-dos-Mínimos-Quadrados)\n",
    "\n",
    "Reescrever o sistema de funções com os valores obtidos no Passo 3, e encontrar os coeficientes lineares da função de aproximação."
   ]
  },
  {
   "cell_type": "markdown",
   "metadata": {},
   "source": [
    "#### Eliminação de Gauss para sistemas equacionais lineares\n",
    "\n",
    "**Definição:**\n",
    "Este método matemático visa simplificar a resolução de sistemas lineares\n",
    "$$\n",
    "\\mathrm{A}x=\\mathrm{b}\n",
    "$$\n",
    "\n",
    "*Exemplo numerico:*\n",
    "$$\n",
    "\\begin{matrix}\n",
    "\\!\\! & \\!\\! & \\!2y\\!  & \\!+\\! & \\!2z\\! & \\!=\\! & \\!8\\! \\\\\n",
    "\\!x\\! & \\!+\\! & \\!2y\\!  & \\!+\\! & \\!z\\! & \\!=\\! & \\!9\\! \\\\ \n",
    "\\!x\\! & \\!+\\! & \\!y\\!  & \\!+\\! & \\!z\\! & \\!=\\! & \\!6\\! \\\\\n",
    "\\end{matrix}\n",
    "$$\n",
    "\n",
    "\n",
    "$$\n",
    "\\begin{bmatrix}\n",
    "0 & 2 & 2\\\\ \n",
    "1 & 2 & 1\\\\ \n",
    "1 & 1 & 1\n",
    "\\end{bmatrix}\\times \\begin{bmatrix}\n",
    "x\\\\ \n",
    "y\\\\ \n",
    "z\n",
    "\\end{bmatrix} = \\begin{bmatrix}\n",
    "8\\\\ \n",
    "9\\\\ \n",
    "6\n",
    "\\end{bmatrix}\n",
    "$$\n",
    "\n",
    "*Exemplo de MMQ linear:*\n",
    "$$\n",
    "\\begin{bmatrix}\n",
    "\\sum_{k=1}^{m}g_{1}(x_{k})g_{1}(x_{k}) & \\sum_{k=1}^{m}g_{1}(x_{k})g_{2}(x_{k}) \\\\ \n",
    "\\sum_{k=1}^{m}g_{2}(x_{k})g_{1}(x_{k}) & \\sum_{k=1}^{m}g_{2}(x_{k})g_{2}(x_{k})\n",
    "\\end{bmatrix} \\times \\begin{bmatrix}\n",
    "a_{1} \\\\ \n",
    "a_{2}\n",
    "\\end{bmatrix}=\\begin{bmatrix}\n",
    "\\sum_{k=1}^{m}f(x_{k})g_{1}(x_{k}) \\\\ \n",
    "\\sum_{k=1}^{m}f(x_{k})g_{2}(x_{k})\n",
    "\\end{bmatrix}\n",
    "$$\n",
    "\n",
    "$$\n",
    "\\begin{bmatrix}\n",
    "a_{1}\\cdot\\sum_{k=1}^{m}g_{1}(x_{k})g_{1}(x_{k}) & a_{2}\\cdot\\sum_{k=1}^{m}g_{1}(x_{k})g_{2}(x_{k}) \\\\ \n",
    "a_{1}\\cdot\\sum_{k=1}^{m}g_{2}(x_{k})g_{1}(x_{k}) & a_{2}\\cdot\\sum_{k=1}^{m}g_{2}(x_{k})g_{2}(x_{k})\n",
    "\\end{bmatrix}=\\begin{bmatrix}\n",
    "\\sum_{k=1}^{m}f(x_{k})g_{1}(x_{k}) \\\\ \n",
    "\\sum_{k=1}^{m}f(x_{k})g_{2}(x_{k})\n",
    "\\end{bmatrix}\n",
    "$$\n",
    "\n",
    "$$\n",
    "\\left\\{\\begin{matrix}\n",
    "a_{1}\\cdot\\sum_{k=1}^{m}g_{1}(x_{k})g_{1}(x_{k}) + a_{2}\\cdot\\sum_{k=1}^{m}g_{1}(x_{k})g_{2}(x_{k}) = \\sum_{k=1}^{m}f(x_{k})g_{1}(x_{k}) &\\\\ \n",
    "a_{1}\\cdot\\sum_{k=1}^{m}g_{2}(x_{k})g_{1}(x_{k}) + a_{2}\\cdot\\sum_{k=1}^{m}g_{2}(x_{k})g_{2}(x_{k}) = \\sum_{k=1}^{m}f(x_{k})g_{2}(x_{k}) &\n",
    "\\end{matrix}\\right.\n",
    "$$"
   ]
  },
  {
   "cell_type": "markdown",
   "metadata": {},
   "source": [
    "## Definição algorítmica\n",
    "* [Índice](#Método-dos-Mínimos-Quadrados)\n",
    "\n",
    "Será usado aqui a seguinte sequência de valores:\n",
    "\n",
    "x | y\n",
    "--- | ---\n",
    "1 | 0,5\n",
    "2 | 0,6\n",
    "3 | 0,9\n",
    "4 | 0,8\n",
    "5 | 1,2\n",
    "6 | 1,5\n",
    "7 | 1,7\n",
    "8 | 2\n",
    "\n",
    "Para acompanhar cada processo do algorítmo. Será usado uma função $\\varphi(x)$ de grau 3, e a aproximação dos coeficientes fimais será de 0,001, para evitar valores excessivamente extensos."
   ]
  },
  {
   "cell_type": "markdown",
   "metadata": {},
   "source": [
    "### Definindo o ambiente\n",
    "* [Índice](#Método-dos-Mínimos-Quadrados)"
   ]
  },
  {
   "cell_type": "code",
   "execution_count": 1,
   "metadata": {},
   "outputs": [],
   "source": [
    "import numpy as np\n",
    "import sympy as sp\n",
    "from sympy.abc import a, b, c, d, e, f, g, h, i, j, k, l, m\n",
    "from sympy.abc import n, o, p, q, r, s, t, u, v, w, x, y, z\n",
    "sp.init_printing()"
   ]
  },
  {
   "cell_type": "code",
   "execution_count": 2,
   "metadata": {},
   "outputs": [
    {
     "name": "stdout",
     "output_type": "stream",
     "text": [
      "[['1.0' '2.0' '3.0' '4.0' '5.0' '6.0' '7.0' '8.0']\n",
      " ['0.5' '0.6' '0.9' '0.8' '1.2' '1.5' '1.7' '2.0']]\n"
     ]
    }
   ],
   "source": [
    "x = [1, 2, 3, 4, 5, 6, 7, 8]\n",
    "y = [0.5, 0.6, 0.9, 0.8, 1.2, 1.5, 1.7, 2]\n",
    "dados = np.array([x, y]).astype(str)\n",
    "print(dados)"
   ]
  },
  {
   "cell_type": "markdown",
   "metadata": {},
   "source": [
    "#### Para criar o gráfico"
   ]
  },
  {
   "cell_type": "code",
   "execution_count": 25,
   "metadata": {},
   "outputs": [],
   "source": [
    "import matplotlib.pyplot as plt\n",
    "from matplotlib import style\n",
    "style.use('seaborn-paper')\n",
    "\n",
    "\n",
    "def grafico_mtpl(experimental=None, teorico=None,\n",
    "                 exibir_plot=False, exibir_dados=False,\n",
    "                 exp_nome=None, teor_nome=None):\n",
    "    experimental = experimental.astype(np.float)\n",
    "    plt.grid(True, linestyle=':')\n",
    "    plt.axhline(0, color='k')\n",
    "    plt.axvline(0, color='k')\n",
    "    if exibir_dados:\n",
    "        if experimental is not None and not exp_nome:\n",
    "            plt.scatter(experimental[0], experimental[1],\n",
    "                        label=None, marker='o', c='magenta')\n",
    "        elif experimental is not None and exp_nome:\n",
    "            experimental = experimental.astype(np.float)\n",
    "            plt.scatter(experimental[0], experimental[1],\n",
    "                        label=exp_nome, marker='o', c='magenta')\n",
    "    if teorico is not None:\n",
    "        x = sp.Symbol('x')\n",
    "        lam_fx = sp.lambdify(x, teorico, modules=[\"numpy\"])\n",
    "        eixo_x = np.linspace(experimental[0][0],\n",
    "                             experimental[0][-1], num=1000)\n",
    "        eixo_y = lam_fx(eixo_x)\n",
    "    if not teor_nome and teorico is not None:\n",
    "        plt.plot(eixo_x, eixo_y, label=None)\n",
    "    elif teor_nome and teorico is not None:\n",
    "        plt.plot(eixo_x, eixo_y, label=teor_nome)\n",
    "    if exp_nome or teor_nome:\n",
    "        plt.legend(prop={'size': 10}, framealpha=1)\n",
    "    if exibir_plot:\n",
    "        plt.show()"
   ]
  },
  {
   "cell_type": "code",
   "execution_count": 4,
   "metadata": {},
   "outputs": [
    {
     "data": {
      "image/png": "[encoded data removed]",
      "text/plain": [
       "<Figure size 432x288 with 1 Axes>"
      ]
     },
     "metadata": {},
     "output_type": "display_data"
    }
   ],
   "source": [
    "grafico_mtpl(experimental=dados, exibir_plot=True,\n",
    "             exibir_dados=True, exp_nome='Dados')"
   ]
  },
  {
   "cell_type": "markdown",
   "metadata": {},
   "source": [
    "### Calculando a matriz A\n",
    "* [Índice](#Método-dos-Mínimos-Quadrados)"
   ]
  },
  {
   "cell_type": "code",
   "execution_count": 5,
   "metadata": {},
   "outputs": [],
   "source": [
    "def coeficiente_A(matriz, grau):\n",
    "    valores_A = (np.empty([grau + 1, grau + 1]) * np.nan)\n",
    "    valores_A = (valores_A.reshape((grau + 1, grau + 1))).astype(str)\n",
    "    somatorio = 0\n",
    "    for Gi in range(grau + 1):\n",
    "        for Gj in range(grau + 1):\n",
    "            for Fk in range(len(matriz[0])):\n",
    "                somatorio += sp.simplify(sp.sympify((sp.sympify(matriz[0][Fk])**Gi) *\n",
    "                                                    (sp.sympify(matriz[0][Fk])**Gj)))\n",
    "            valores_A[Gi][Gj] = str(somatorio)\n",
    "            somatorio = 0\n",
    "    return valores_A"
   ]
  },
  {
   "cell_type": "code",
   "execution_count": 6,
   "metadata": {},
   "outputs": [
    {
     "name": "stdout",
     "output_type": "stream",
     "text": [
      "[['8' '36.0000000000000' '204.000000000000' '1296.00000000000']\n",
      " ['36.0000000000000' '204.000000000000' '1296.00000000000'\n",
      "  '8772.00000000000']\n",
      " ['204.000000000000' '1296.00000000000' '8772.00000000000'\n",
      "  '61776.0000000000']\n",
      " ['1296.00000000000' '8772.00000000000' '61776.0000000000'\n",
      "  '446964.000000000']]\n"
     ]
    }
   ],
   "source": [
    "mA = coeficiente_A(dados, 3)\n",
    "print(mA)"
   ]
  },
  {
   "cell_type": "markdown",
   "metadata": {},
   "source": [
    "### Calculando a matriz x\n",
    "* [Índice](#Método-dos-Mínimos-Quadrados)"
   ]
  },
  {
   "cell_type": "code",
   "execution_count": 7,
   "metadata": {},
   "outputs": [],
   "source": [
    "def coeficiente_Incog(grau):\n",
    "    incognitas = np.array([a, b, c, d, e, f, g, h,\n",
    "                           i, j, k, l, m, n, o, p,\n",
    "                           q, r, s, t, u, v, w, x, y, z]).reshape(26, 1)\n",
    "    coeficientes = (np.empty([grau + 1, 1]) * np.nan).reshape((grau + 1, 1)).astype(object)\n",
    "    for coef in range(grau + 1):\n",
    "        coeficientes[coef][0] = incognitas[coef][0]\n",
    "    return coeficientes"
   ]
  },
  {
   "cell_type": "code",
   "execution_count": 8,
   "metadata": {},
   "outputs": [
    {
     "name": "stdout",
     "output_type": "stream",
     "text": [
      "[[a]\n",
      " [b]\n",
      " [c]\n",
      " [d]]\n"
     ]
    }
   ],
   "source": [
    "mX = coeficiente_Incog(3)\n",
    "print(mX)"
   ]
  },
  {
   "cell_type": "markdown",
   "metadata": {},
   "source": [
    "### Calculando a matriz b\n",
    "* [Índice](#Método-dos-Mínimos-Quadrados)"
   ]
  },
  {
   "cell_type": "code",
   "execution_count": 9,
   "metadata": {},
   "outputs": [],
   "source": [
    "def coeficiente_B(matriz, grau):\n",
    "    valores_B = (np.empty([grau + 1, 1]) * np.nan)\n",
    "    valores_B = (valores_B.reshape((grau + 1, 1))).astype(str)\n",
    "    somatorio = 0\n",
    "    for Gi in range(grau + 1):\n",
    "        for Fk in range(len(matriz[0])):\n",
    "            somatorio += sp.simplify(sp.sympify(sp.sympify(matriz[1][Fk]) *\n",
    "                                                (sp.sympify(matriz[0][Fk])**Gi)))\n",
    "        valores_B[Gi][0] = str(somatorio)\n",
    "        somatorio = 0\n",
    "    return valores_B"
   ]
  },
  {
   "cell_type": "code",
   "execution_count": 10,
   "metadata": {},
   "outputs": [
    {
     "name": "stdout",
     "output_type": "stream",
     "text": [
      "[['9.20000000000000']\n",
      " ['50.5000000000000']\n",
      " ['319.100000000000']\n",
      " ['2161.90000000000']]\n"
     ]
    }
   ],
   "source": [
    "mB = coeficiente_B(dados, 3)\n",
    "print(mB)"
   ]
  },
  {
   "cell_type": "markdown",
   "metadata": {},
   "source": [
    "### Calculando o sistema equacional linear\n",
    "* [Índice](#Método-dos-Mínimos-Quadrados)"
   ]
  },
  {
   "cell_type": "code",
   "execution_count": 11,
   "metadata": {},
   "outputs": [],
   "source": [
    "def sist_Equacoes(matriz, grau):\n",
    "    matA = coeficiente_A(matriz, grau)\n",
    "    matB = (coeficiente_B(matriz, grau)).transpose()\n",
    "    matCoef = (coeficiente_Incog(grau)).transpose()\n",
    "    coeficientes = (np.empty([grau + 1, 1]) * np.nan).reshape((grau + 1, 1)).astype(object)\n",
    "    equacao = ''\n",
    "    for linhaA in range(len(matA)):\n",
    "        for colunaA in range(len(matA[0])):\n",
    "            equacao += str(matA[linhaA][colunaA]) + '*' + str(matCoef[0][colunaA]) + '+'\n",
    "            if colunaA == (len(matA[0]) - 1):\n",
    "                equacao += '(-' + str(matB[0][linhaA]) + ')'\n",
    "        coeficientes[linhaA][0] = sp.simplify(sp.sympify(equacao))\n",
    "        equacao = ''\n",
    "    return coeficientes, matCoef"
   ]
  },
  {
   "cell_type": "code",
   "execution_count": 12,
   "metadata": {},
   "outputs": [
    {
     "name": "stdout",
     "output_type": "stream",
     "text": [
      "[[8*a + 36.0*b + 204.0*c + 1296.0*d - 9.2]\n",
      " [36.0*a + 204.0*b + 1296.0*c + 8772.0*d - 50.5]\n",
      " [204.0*a + 1296.0*b + 8772.0*c + 61776.0*d - 319.1]\n",
      " [1296.0*a + 8772.0*b + 61776.0*c + 446964.0*d - 2161.9]]\n"
     ]
    }
   ],
   "source": [
    "sistema, coefis = sist_Equacoes(dados, 3)\n",
    "print(sistema)"
   ]
  },
  {
   "cell_type": "markdown",
   "metadata": {},
   "source": [
    "### Resolvendo o sistema equacional e criando o polinômio\n",
    "* [Índice](#Método-dos-Mínimos-Quadrados)"
   ]
  },
  {
   "cell_type": "code",
   "execution_count": 13,
   "metadata": {},
   "outputs": [],
   "source": [
    "def polinomio(matriz, grau, valores_coeficientes=False,\n",
    "              em_decimais=False, tolerancia=None):\n",
    "    equacoes, coefis = sist_Equacoes(matriz, grau)\n",
    "    list_coef = []\n",
    "    list_equa = []\n",
    "    for item in range(len(coefis[0])):\n",
    "        list_coef.append(coefis[0][item])\n",
    "    for item in range(len(equacoes)):\n",
    "        list_equa.append(equacoes[item][0])\n",
    "    coef_value = sp.solve(list_equa, (list_coef))\n",
    "    polinomio = ''\n",
    "    for indice in range(len(list_equa)):\n",
    "        polinomio += '+(' + str(coef_value[list_coef[indice]]) + ')*x**(' + str(indice) + ')'\n",
    "    if not em_decimais:\n",
    "        polinomio = sp.nsimplify(sp.sympify(polinomio), tolerance=tolerancia)\n",
    "    else:\n",
    "        polinomio = sp.simplify(sp.sympify(polinomio))\n",
    "    if valores_coeficientes:\n",
    "        return polinomio, coef_value\n",
    "    else:\n",
    "        return polinomio"
   ]
  },
  {
   "cell_type": "code",
   "execution_count": 14,
   "metadata": {},
   "outputs": [],
   "source": [
    "equacao, coeficientes = polinomio(dados, 3, valores_coeficientes=True,\n",
    "                                  tolerancia=0.001, em_decimais=False)"
   ]
  },
  {
   "cell_type": "code",
   "execution_count": 15,
   "metadata": {},
   "outputs": [
    {
     "data": {
      "image/png": "[encoded data removed]",
      "text/latex": [
       "$$\\left \\{ a : 0.457142857142857, \\quad b : 0.0253607503607504, \\quad c : 0.0291125541125541, \\quad d : -0.00101010101010101\\right \\}$$"
      ],
      "text/plain": [
       "{a: 0.457142857142857, b: 0.0253607503607504, c: 0.0291125541125541, d: -0.001\n",
       "01010101010101}"
      ]
     },
     "execution_count": 15,
     "metadata": {},
     "output_type": "execute_result"
    }
   ],
   "source": [
    "coeficientes"
   ]
  },
  {
   "cell_type": "code",
   "execution_count": 16,
   "metadata": {},
   "outputs": [
    {
     "data": {
      "image/png": "[encoded data removed]",
      "text/latex": [
       "$$- \\frac{x^{3}}{990} + \\frac{20 x^{2}}{687} + \\frac{7 x}{276} + \\frac{16}{35}$$"
      ],
      "text/plain": [
       "    3       2           \n",
       "   x    20⋅x    7⋅x   16\n",
       "- ─── + ───── + ─── + ──\n",
       "  990    687    276   35"
      ]
     },
     "execution_count": 16,
     "metadata": {},
     "output_type": "execute_result"
    }
   ],
   "source": [
    "equacao"
   ]
  },
  {
   "cell_type": "markdown",
   "metadata": {},
   "source": [
    "### Visualizando o resultado\n",
    "* [Índice](#Método-dos-Mínimos-Quadrados)"
   ]
  },
  {
   "cell_type": "code",
   "execution_count": 17,
   "metadata": {},
   "outputs": [
    {
     "data": {
      "image/png": "[encoded data removed]",
      "text/plain": [
       "<Figure size 432x288 with 1 Axes>"
      ]
     },
     "metadata": {},
     "output_type": "display_data"
    }
   ],
   "source": [
    "grafico_mtpl(experimental=dados, teorico=equacao,\n",
    "             exibir_plot=True, exibir_dados=True,\n",
    "             exp_nome='Dados', teor_nome='MMQ')"
   ]
  },
  {
   "cell_type": "markdown",
   "metadata": {},
   "source": [
    "."
   ]
  },
  {
   "cell_type": "markdown",
   "metadata": {},
   "source": [
    "## Exemplo\n",
    "* [Índice](#Método-dos-Mínimos-Quadrados)"
   ]
  },
  {
   "cell_type": "code",
   "execution_count": 18,
   "metadata": {},
   "outputs": [],
   "source": [
    "vx = [-1, -0.92, -0.84, -0.8, -0.72, -0.64, -0.56, -0.48, -0.36,\n",
    "      -0.24, -0.12, 0, 0.12, 0.2, 0.32, 0.4, 0.52, 0.64, 0.76, 0.92]\n",
    "vy = [4, 1, 5, 7, 6, 3, 2, 2, 5, 12, 13, 11, 7, 4, -2, -6, -8, -2, 4, 9]\n",
    "dados_exemplo = np.array([vx, vy]).astype(str)"
   ]
  },
  {
   "cell_type": "code",
   "execution_count": 19,
   "metadata": {},
   "outputs": [],
   "source": [
    "Grau1 = polinomio(dados_exemplo, 1, tolerancia=0.001) # MMQ por polinômio de grau 1\n",
    "Grau3 = polinomio(dados_exemplo, 3, tolerancia=0.001) # MMQ por polinômio de grau 3\n",
    "Grau5 = polinomio(dados_exemplo, 5, tolerancia=0.001) # MMQ por polinômio de grau 5\n",
    "Grau8 = polinomio(dados_exemplo, 8, tolerancia=0.001) # MMQ por polinômio de grau 8"
   ]
  },
  {
   "cell_type": "code",
   "execution_count": 20,
   "metadata": {},
   "outputs": [
    {
     "data": {
      "image/png": "[encoded data removed]",
      "text/latex": [
       "$$- \\frac{1698 x}{835} + \\frac{1747}{490}$$"
      ],
      "text/plain": [
       "  1698⋅x   1747\n",
       "- ────── + ────\n",
       "   835     490 "
      ]
     },
     "execution_count": 20,
     "metadata": {},
     "output_type": "execute_result"
    }
   ],
   "source": [
    "Grau1"
   ]
  },
  {
   "cell_type": "code",
   "execution_count": 21,
   "metadata": {},
   "outputs": [
    {
     "data": {
      "image/png": "[encoded data removed]",
      "text/latex": [
       "$$\\frac{12773 x^{3}}{783} - \\frac{7 x^{2}}{29} - \\frac{1799 x}{148} + \\frac{3739}{939}$$"
      ],
      "text/plain": [
       "       3      2                \n",
       "12773⋅x    7⋅x    1799⋅x   3739\n",
       "──────── - ──── - ────── + ────\n",
       "  783       29     148     939 "
      ]
     },
     "execution_count": 21,
     "metadata": {},
     "output_type": "execute_result"
    }
   ],
   "source": [
    "Grau3"
   ]
  },
  {
   "cell_type": "code",
   "execution_count": 22,
   "metadata": {},
   "outputs": [
    {
     "data": {
      "image/png": "[encoded data removed]",
      "text/latex": [
       "$$\\frac{2333 x^{5}}{457} + \\frac{31103 x^{4}}{708} + \\frac{5773 x^{3}}{302} - \\frac{19459 x^{2}}{515} - \\frac{11059 x}{718} + \\frac{5683}{717}$$"
      ],
      "text/plain": [
       "      5          4         3          2                 \n",
       "2333⋅x    31103⋅x    5773⋅x    19459⋅x    11059⋅x   5683\n",
       "─────── + ──────── + ─────── - ──────── - ─────── + ────\n",
       "  457       708        302       515        718     717 "
      ]
     },
     "execution_count": 22,
     "metadata": {},
     "output_type": "execute_result"
    }
   ],
   "source": [
    "Grau5"
   ]
  },
  {
   "cell_type": "code",
   "execution_count": 23,
   "metadata": {},
   "outputs": [
    {
     "data": {
      "image/png": "[encoded data removed]",
      "text/latex": [
       "$$\\frac{114090 x^{8}}{397} + \\frac{7874 x^{7}}{289} - \\frac{89147 x^{6}}{132} - \\frac{51510 x^{5}}{857} + \\frac{334561 x^{4}}{617} + \\frac{34563 x^{3}}{572} - \\frac{156164 x^{2}}{993} - \\frac{4827 x}{227} + \\frac{12222}{965}$$"
      ],
      "text/plain": [
       "        8         7          6          5           4          3           2  \n",
       "114090⋅x    7874⋅x    89147⋅x    51510⋅x    334561⋅x    34563⋅x    156164⋅x   \n",
       "───────── + ─────── - ──────── - ──────── + ───────── + ──────── - ───────── -\n",
       "   397        289       132        857         617        572         993     \n",
       "\n",
       "               \n",
       " 4827⋅x   12222\n",
       " ────── + ─────\n",
       "  227      965 "
      ]
     },
     "execution_count": 23,
     "metadata": {},
     "output_type": "execute_result"
    }
   ],
   "source": [
    "Grau8"
   ]
  },
  {
   "cell_type": "code",
   "execution_count": 26,
   "metadata": {},
   "outputs": [
    {
     "data": {
      "image/png": "[encoded data removed]",
      "text/plain": [
       "<Figure size 460.8x316.8 with 1 Axes>"
      ]
     },
     "metadata": {},
     "output_type": "display_data"
    }
   ],
   "source": [
    "grafico_mtpl(experimental=dados_exemplo, teorico=Grau1,\n",
    "             exp_nome='Dados', exibir_dados=True, teor_nome='Grau 1')\n",
    "grafico_mtpl(experimental=dados_exemplo,\n",
    "             teorico=Grau3, teor_nome='Grau 3')\n",
    "grafico_mtpl(experimental=dados_exemplo,\n",
    "             teorico=Grau5, teor_nome='Grau 5')\n",
    "grafico_mtpl(experimental=dados_exemplo,\n",
    "             teorico=Grau8, teor_nome='Grau 8')"
   ]
  },
  {
   "cell_type": "markdown",
   "metadata": {},
   "source": [
    "."
   ]
  }
 ],
 "metadata": {
  "kernelspec": {
   "display_name": "Python 3",
   "language": "python",
   "name": "python3"
  },
  "language_info": {
   "codemirror_mode": {
    "name": "ipython",
    "version": 3
   },
   "file_extension": ".py",
   "mimetype": "text/x-python",
   "name": "python",
   "nbconvert_exporter": "python",
   "pygments_lexer": "ipython3",
   "version": "3.6.4"
  }
 },
 "nbformat": 4,
 "nbformat_minor": 2
}
